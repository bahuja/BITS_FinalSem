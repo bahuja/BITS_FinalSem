{
 "cells": [
  {
   "cell_type": "code",
   "execution_count": 5,
   "metadata": {},
   "outputs": [],
   "source": [
    "import os\n",
    "from openai import AzureOpenAI\n",
    "import comet_llm\n",
    "from IPython.display import display\n",
    "import ipywidgets as widgets\n",
    "import time\n",
    "import dotenv "
   ]
  },
  {
   "cell_type": "code",
   "execution_count": 6,
   "metadata": {},
   "outputs": [
    {
     "name": "stderr",
     "output_type": "stream",
     "text": [
      "\u001b[1;38;5;39mCOMET INFO:\u001b[0m Valid Comet API Key saved in C:\\Users\\dell\\.comet.config (set COMET_CONFIG to change where it is saved).\n"
     ]
    }
   ],
   "source": [
    "# Input API keys\n",
    "\n",
    "MY_OPENAI_KEY = os.getenv('MY_OPENAI_KEY','793fe17321c74cdba3dd9ca4983bd848')\n",
    "MY_OPENAI_ENDPOINT= os.getenv(\"ENDPOINT_URL\", \"https://oai-services7827.openai.azure.com/\")\n",
    "MY_COMET_KEY = 'QVV5dbMa1STbzEQ1o8Hon0XEe'\n",
    "deployment = os.getenv(\"DEPLOYMENT_NAME\", \"ai-firstDeployment\")\n",
    "\n",
    "\n",
    "comet_llm.init(project=\"shopbot_openai\",\n",
    "               api_key=MY_COMET_KEY)"
   ]
  },
  {
   "cell_type": "code",
   "execution_count": 9,
   "metadata": {},
   "outputs": [],
   "source": [
    "# Customize your product list if necessary.\n",
    "product_list = '''\n",
    "# Fashion Shop Product List\n",
    "\n",
    "## Women's Clothing:\n",
    "\n",
    "- T-shirt  \n",
    "  - Price: $20  \n",
    "  - Available Sizes: Small, Medium, Large, XL  \n",
    "  - Available Colors: Red, White, Black, Gray, Navy\n",
    "  \n",
    "- Elegant Evening Gown  \n",
    "  - Price: $150  \n",
    "  - Available Sizes: Small, Medium, Large, XL  \n",
    "  - Available Colors: Black, Navy Blue, Burgundy\n",
    "\n",
    "- Floral Summer Dress  \n",
    "  - Price: $45  \n",
    "  - Available Sizes: Small, Medium, Large  \n",
    "  - Available Colors: Floral Print, Blue, Pink\n",
    "\n",
    "- Professional Blazer  \n",
    "  - Price: $80  \n",
    "  - Available Sizes: Small, Medium, Large, XL  \n",
    "  - Available Colors: Black, Gray, Navy\n",
    "\n",
    "## Men's Clothing:\n",
    "- Classic Suit Set  \n",
    "  - Price: $200  \n",
    "  - Available Sizes: Small, Medium, Large, XL  \n",
    "  - Available Colors: Charcoal Gray, Navy Blue, Black\n",
    "\n",
    "- Casual Denim Jeans  \n",
    "  - Price: $35  \n",
    "  - Available Sizes: 28, 30, 32, 34  \n",
    "  - Available Colors: Blue Denim, Black\n",
    "\n",
    "- Polo Shirt Collection  \n",
    "  - Price: $25 each  \n",
    "  - Available Sizes: Small, Medium, Large, XL  \n",
    "  - Available Colors: White, Blue, Red, Green\n",
    "\n",
    "## Accessories:\n",
    "- Stylish Sunglasses  \n",
    "  - Price: $20  \n",
    "  - Available Colors: Black, Brown, Tortoise Shell\n",
    "\n",
    "- Leather Handbag  \n",
    "  - Price: $60  \n",
    "  - Available Colors: Brown, Black, Red\n",
    "\n",
    "- Classic Wristwatch  \n",
    "  - Price: $50  \n",
    "  - Available Colors: Silver, Gold, Rose Gold\n",
    "\n",
    "## Footwear:\n",
    "- High-Heel Ankle Boots  \n",
    "  - Price: $70  \n",
    "  - Available Sizes: 5-10  \n",
    "  - Available Colors: Black, Tan, Burgundy\n",
    "\n",
    "- Comfortable Sneakers  \n",
    "  - Price: $55  \n",
    "  - Available Sizes: 6-12  \n",
    "  - Available Colors: White, Black, Gray\n",
    "\n",
    "- Formal Leather Shoes  \n",
    "  - Price: $90  \n",
    "  - Available Sizes: 7-11  \n",
    "  - Available Colors: Brown, Black\n",
    "\n",
    "## Kids' Collection:\n",
    "- Cute Cartoon T-shirts  \n",
    "  - Price: $15 each  \n",
    "  - Available Sizes: 2T, 3T, 4T  \n",
    "  - Available Colors: Blue, Pink, Yellow\n",
    "\n",
    "- Adorable Onesies  \n",
    "  - Price: $25  \n",
    "  - Available Sizes: Newborn, 3M, 6M, 12M  \n",
    "  - Available Colors: Pastel Blue, Pink, Mint Green\n",
    "\n",
    "- Trendy Kids' Backpacks  \n",
    "  - Price: $30  \n",
    "  - Available Colors: Blue, Red, Purple\n",
    "\n",
    "## Activewear:\n",
    "- Yoga Leggings  \n",
    "  - Price: $30  \n",
    "  - Available Sizes: Small, Medium, Large  \n",
    "  - Available Colors: Black, Gray, Teal\n",
    "\n",
    "- Running Shoes  \n",
    "  - Price: $40  \n",
    "  - Available Sizes: 6-12  \n",
    "  - Available Colors: White, Black, Neon Green\n",
    "\n",
    "- Quick-Dry Sports T-shirt  \n",
    "  - Price: $20  \n",
    "  - Available Sizes: Small, Medium, Large  \n",
    "  - Available Colors: Red, Blue, Gray\n",
    "\n",
    "\n",
    "'''\n",
    "\n",
    "context = [{'role': 'system',\n",
    "            'content': f\"\"\"\n",
    "You are ShopBot, an AI assistant for my online fashion shop - Paridhan. \n",
    "\n",
    "Your role is to assist customers in browsing products, providing information, and guiding them through the checkout process. \n",
    "\n",
    "Be friendly and helpful in your interactions.\n",
    "\n",
    "We offer a variety of products across categories such as Women's Clothing, Men's clothing, Accessories, Kids' Collection, Footwears and Activewear products. \n",
    "\n",
    "Feel free to ask customers about their preferences, recommend products, and inform them about any ongoing promotions.\n",
    "\n",
    "The Current Product List is limited as below:\n",
    "\n",
    "```{product_list}```\n",
    "\n",
    "Make the shopping experience enjoyable and encourage customers to reach out if they have any questions or need assistance.\n",
    "\"\"\"}]\n",
    "\n"
   ]
  },
  {
   "cell_type": "code",
   "execution_count": 24,
   "metadata": {},
   "outputs": [],
   "source": [
    "# Create a Chatbot\n",
    "openAiClient = AzureOpenAI(\n",
    "    api_key=MY_OPENAI_KEY,  \n",
    "    api_version=\"2024-05-01-preview\",\n",
    "    azure_endpoint=MY_OPENAI_ENDPOINT\n",
    ")\n",
    "\n",
    "\n",
    "def get_completion_from_messages(messages, model=\"gpt-35-turbo\"):\n",
    "    client = openAiClient\n",
    "    \n",
    "\n",
    "    chat_completion = client.chat.completions.create(\n",
    "        messages=messages,\n",
    "        model=deployment,\n",
    "    )\n",
    "    return chat_completion.choices[0].message.content"
   ]
  },
  {
   "cell_type": "code",
   "execution_count": 25,
   "metadata": {},
   "outputs": [
    {
     "data": {
      "application/vnd.jupyter.widget-view+json": {
       "model_id": "726d6a469c794b1497307ef6b5b9ff11",
       "version_major": 2,
       "version_minor": 0
      },
      "text/plain": [
       "VBox(children=(Text(value='Hi', placeholder='Enter text here…'), Button(description='Chat!', style=ButtonStyle…"
      ]
     },
     "metadata": {},
     "output_type": "display_data"
    },
    {
     "name": "stdout",
     "output_type": "stream",
     "text": [
      "Prompt logged to https://www.comet.com/bahuja/shopbot_openai\n"
     ]
    },
    {
     "data": {
      "application/vnd.jupyter.widget-view+json": {
       "model_id": "a99452d7eaf744d4aee3af064da77951",
       "version_major": 2,
       "version_minor": 0
      },
      "text/plain": [
       "VBox(children=(Output(), Output()))"
      ]
     },
     "metadata": {},
     "output_type": "display_data"
    },
    {
     "data": {
      "application/vnd.jupyter.widget-view+json": {
       "model_id": "2a50243403164850ab72d9ba1656ad02",
       "version_major": 2,
       "version_minor": 0
      },
      "text/plain": [
       "VBox(children=(Output(), Output()))"
      ]
     },
     "metadata": {},
     "output_type": "display_data"
    },
    {
     "data": {
      "application/vnd.jupyter.widget-view+json": {
       "model_id": "e231af144dad4632a41e560dcec2556e",
       "version_major": 2,
       "version_minor": 0
      },
      "text/plain": [
       "VBox(children=(Output(), Output()))"
      ]
     },
     "metadata": {},
     "output_type": "display_data"
    },
    {
     "data": {
      "application/vnd.jupyter.widget-view+json": {
       "model_id": "cc035a9b90ff4955b01a555a7617abc3",
       "version_major": 2,
       "version_minor": 0
      },
      "text/plain": [
       "VBox(children=(Output(), Output()))"
      ]
     },
     "metadata": {},
     "output_type": "display_data"
    },
    {
     "data": {
      "application/vnd.jupyter.widget-view+json": {
       "model_id": "24ce36c8482b45d2bd461e158c09f141",
       "version_major": 2,
       "version_minor": 0
      },
      "text/plain": [
       "VBox(children=(Output(), Output()))"
      ]
     },
     "metadata": {},
     "output_type": "display_data"
    },
    {
     "data": {
      "application/vnd.jupyter.widget-view+json": {
       "model_id": "0c225f1f820847d9a8da6e02b5776b01",
       "version_major": 2,
       "version_minor": 0
      },
      "text/plain": [
       "VBox(children=(Output(), Output()))"
      ]
     },
     "metadata": {},
     "output_type": "display_data"
    },
    {
     "data": {
      "application/vnd.jupyter.widget-view+json": {
       "model_id": "472f9163a7ca430faf9f722fd9aac7a0",
       "version_major": 2,
       "version_minor": 0
      },
      "text/plain": [
       "VBox(children=(Output(), Output()))"
      ]
     },
     "metadata": {},
     "output_type": "display_data"
    },
    {
     "data": {
      "application/vnd.jupyter.widget-view+json": {
       "model_id": "5c3f6020b93d4ddbadc08a7e89c50043",
       "version_major": 2,
       "version_minor": 0
      },
      "text/plain": [
       "VBox(children=(Output(), Output()))"
      ]
     },
     "metadata": {},
     "output_type": "display_data"
    },
    {
     "data": {
      "application/vnd.jupyter.widget-view+json": {
       "model_id": "52cd834c261746e081b08480da52a3ac",
       "version_major": 2,
       "version_minor": 0
      },
      "text/plain": [
       "VBox(children=(Output(), Output()))"
      ]
     },
     "metadata": {},
     "output_type": "display_data"
    },
    {
     "data": {
      "application/vnd.jupyter.widget-view+json": {
       "model_id": "ac27bd50a7254a2cbda4286e5d6835b6",
       "version_major": 2,
       "version_minor": 0
      },
      "text/plain": [
       "VBox(children=(Output(), Output()))"
      ]
     },
     "metadata": {},
     "output_type": "display_data"
    },
    {
     "data": {
      "application/vnd.jupyter.widget-view+json": {
       "model_id": "117da3d7a8c84fcd9a075246afa9dc2b",
       "version_major": 2,
       "version_minor": 0
      },
      "text/plain": [
       "VBox(children=(Output(), Output()))"
      ]
     },
     "metadata": {},
     "output_type": "display_data"
    },
    {
     "data": {
      "application/vnd.jupyter.widget-view+json": {
       "model_id": "b512f7e32ea14c52bca84ef565da1285",
       "version_major": 2,
       "version_minor": 0
      },
      "text/plain": [
       "VBox(children=(Output(), Output()))"
      ]
     },
     "metadata": {},
     "output_type": "display_data"
    }
   ],
   "source": [
    "# Interacting with Customers\n",
    "\n",
    "def collect_messages(_):\n",
    "    user_input = inp.value\n",
    "    inp.value = ''\n",
    "    context.append({'role':'user', 'content':f\"{user_input}\"})\n",
    "\n",
    "    # Record the start time\n",
    "    start_time = time.time()  \n",
    "\n",
    "    response = get_completion_from_messages(context) \n",
    "\n",
    "    # Record the end time\n",
    "    end_time = time.time()  \n",
    "\n",
    "    # Calculate the duration\n",
    "    duration = end_time - start_time  \n",
    "\n",
    "    # Log to comet_llm\n",
    "    comet_llm.log_prompt(\n",
    "        prompt=user_input,\n",
    "        output=response,\n",
    "        duration=duration,\n",
    "        metadata={\n",
    "        \"role\": context[-1]['role'],\n",
    "        \"content\": context[-1]['content'],\n",
    "        \"context\": context,\n",
    "        \"product_list\": product_list\n",
    "        },\n",
    "    )\n",
    "\n",
    "    context.append({'role': 'assistant', 'content': f\"{response}\"})\n",
    "\n",
    "    user_pane = widgets.Output()\n",
    "    with user_pane:\n",
    "        display(widgets.HTML(f\"<b>User:</b> {user_input}\"))\n",
    "\n",
    "    assistant_pane = widgets.Output()\n",
    "    with assistant_pane:\n",
    "        display(widgets.HTML(f\"<b>Assistant:</b> {response}\"))\n",
    "\n",
    "    display(widgets.VBox([user_pane, assistant_pane]))\n",
    "\n",
    "inp = widgets.Text(value=\"Hi\", placeholder='Enter text here…')\n",
    "button_conversation = widgets.Button(description=\"Chat!\")\n",
    "button_conversation.on_click(collect_messages)\n",
    "\n",
    "dashboard = widgets.VBox([inp, button_conversation])\n",
    "\n",
    "display(dashboard)\n"
   ]
  },
  {
   "cell_type": "code",
   "execution_count": 6,
   "metadata": {},
   "outputs": [
    {
     "name": "stdout",
     "output_type": "stream",
     "text": [
      "Certainly! Here's a summary of your order:\n",
      "\n",
      "| Product             | Color | Size | Price |\n",
      "|---------------------|-------|------|-------|\n",
      "| Red Women's T-shirt | Red   | Small| $20   |\n",
      "| Black Running Shoes | Black | 10   | $40   |\n",
      "\n",
      "If everything looks good, you can proceed to checkout. Let me know if you need any further assistance!\n"
     ]
    }
   ],
   "source": [
    "messages =  context.copy()\n",
    "messages.append(\n",
    "{'role':'system'\n",
    " , 'content':'create a table summary of the previous order.'}   \n",
    ")\n",
    "\n",
    "response = get_completion_from_messages(messages)\n",
    "print(response)\n"
   ]
  }
 ],
 "metadata": {
  "kernelspec": {
   "display_name": "Python 3",
   "language": "python",
   "name": "python3"
  },
  "language_info": {
   "codemirror_mode": {
    "name": "ipython",
    "version": 3
   },
   "file_extension": ".py",
   "mimetype": "text/x-python",
   "name": "python",
   "nbconvert_exporter": "python",
   "pygments_lexer": "ipython3",
   "version": "3.10.11"
  }
 },
 "nbformat": 4,
 "nbformat_minor": 2
}
